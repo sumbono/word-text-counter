{
 "cells": [
  {
   "cell_type": "markdown",
   "metadata": {},
   "source": [
    "# Example usage\n",
    "\n",
    "To use `word_text_counter` in a project:"
   ]
  },
  {
   "cell_type": "code",
   "execution_count": 1,
   "metadata": {},
   "outputs": [
    {
     "name": "stdout",
     "output_type": "stream",
     "text": [
      "0.1.0\n"
     ]
    }
   ],
   "source": [
    "import word_text_counter\n",
    "\n",
    "print(word_text_counter.__version__)"
   ]
  },
  {
   "cell_type": "markdown",
   "metadata": {},
   "source": [
    "### Create a text file\n",
    "\n",
    "First create a sample text file"
   ]
  },
  {
   "cell_type": "code",
   "execution_count": 8,
   "metadata": {},
   "outputs": [],
   "source": [
    "quote = \"\"\"'Whoever fears Allah (God), \n",
    "Allah (God) will find a way out for him (from every difficulty) \n",
    "and He will provide for him from sources that he could never have imagined.' \n",
    "Quran surah At-Talaq  verses 2 - 3\n",
    "\"\"\"\n",
    "\n",
    "with open(\"quote.txt\",'w') as file:\n",
    "    file.write(quote)"
   ]
  },
  {
   "cell_type": "markdown",
   "metadata": {},
   "source": [
    "### Count Words\n",
    "\n",
    "We count the words from the text file using `count_words` function."
   ]
  },
  {
   "cell_type": "code",
   "execution_count": 9,
   "metadata": {},
   "outputs": [],
   "source": [
    "from word_text_counter import count_words"
   ]
  },
  {
   "cell_type": "code",
   "execution_count": 10,
   "metadata": {},
   "outputs": [
    {
     "name": "stdout",
     "output_type": "stream",
     "text": [
      "{'total': 36, 'details': {'whoever': 1, 'fears': 1, 'allah': 2, 'god': 2, 'will': 2, 'find': 1, 'a': 1, 'way': 1, 'out': 1, 'for': 2, 'him': 2, 'from': 2, 'every': 1, 'difficulty': 1, 'and': 1, 'he': 2, 'provide': 1, 'sources': 1, 'that': 1, 'could': 1, 'never': 1, 'have': 1, 'imagined': 1, 'quran': 1, 'surah': 1, 'attalaq': 1, 'verses': 1, '2': 1, '3': 1}}\n"
     ]
    }
   ],
   "source": [
    "counts = count_words(\"quote.txt\")\n",
    "print(counts)"
   ]
  },
  {
   "cell_type": "code",
   "execution_count": null,
   "metadata": {},
   "outputs": [],
   "source": []
  }
 ],
 "metadata": {
  "interpreter": {
   "hash": "4c3b2089f63f501ec5d840f8a171ba619038b985210447fdcf52d7c835e796c4"
  },
  "kernelspec": {
   "display_name": "Python 3 (ipykernel)",
   "language": "python",
   "name": "python3"
  },
  "language_info": {
   "codemirror_mode": {
    "name": "ipython",
    "version": 3
   },
   "file_extension": ".py",
   "mimetype": "text/x-python",
   "name": "python",
   "nbconvert_exporter": "python",
   "pygments_lexer": "ipython3",
   "version": "3.9.6"
  }
 },
 "nbformat": 4,
 "nbformat_minor": 4
}
